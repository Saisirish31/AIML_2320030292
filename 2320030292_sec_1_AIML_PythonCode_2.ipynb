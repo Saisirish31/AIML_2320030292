{
  "nbformat": 4,
  "nbformat_minor": 0,
  "metadata": {
    "colab": {
      "provenance": []
    },
    "kernelspec": {
      "name": "python3",
      "display_name": "Python 3"
    },
    "language_info": {
      "name": "python"
    }
  },
  "cells": [
    {
      "cell_type": "code",
      "execution_count": 3,
      "metadata": {
        "colab": {
          "base_uri": "https://localhost:8080/"
        },
        "id": "DK2AY0AdPL3O",
        "outputId": "98450032-8f05-4d86-af09-7f69e67a8c74"
      },
      "outputs": [
        {
          "output_type": "stream",
          "name": "stdout",
          "text": [
            "A valid coloring of the map is: {0: 'Red', 1: 'Green', 2: 'Blue', 3: 'Red'}\n"
          ]
        }
      ],
      "source": [
        "# map_coloring.py\n",
        "\n",
        "import itertools\n",
        "\n",
        "def is_valid(coloring, graph, node, color):\n",
        "    for neighbor in graph[node]:\n",
        "        if neighbor in coloring and coloring[neighbor] == color:\n",
        "            return False\n",
        "    return True\n",
        "\n",
        "def map_coloring(graph, colors):\n",
        "    def backtrack(node, coloring):\n",
        "        if node == len(graph):\n",
        "            return coloring\n",
        "\n",
        "        for color in colors:\n",
        "            if is_valid(coloring, graph, node, color):\n",
        "                coloring[node] = color\n",
        "                result = backtrack(node + 1, coloring)\n",
        "                if result is not None:\n",
        "                    return result\n",
        "                del coloring[node]\n",
        "\n",
        "        return None\n",
        "\n",
        "    return backtrack(0, {})\n",
        "\n",
        "if __name__ == \"__main__\":\n",
        "    # Example graph represented as an adjacency list\n",
        "    graph = {\n",
        "        0: [1, 2],\n",
        "        1: [0, 2, 3],\n",
        "        2: [0, 1],\n",
        "        3: [1]\n",
        "    }\n",
        "\n",
        "    colors = ['Red', 'Green', 'Blue']\n",
        "    solution = map_coloring(graph, colors)\n",
        "\n",
        "    if solution:\n",
        "        print(\"A valid coloring of the map is:\", solution)\n",
        "    else:\n",
        "        print(\"No valid coloring found.\")\n"
      ]
    }
  ]
}